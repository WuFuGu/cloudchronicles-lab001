# 🧠 cloudChronicles Lab #001: Disaster Recovery Detective

**Lab Type:** Idea  
**Estimated Time:** 30–45 mins  
**Skill Level:** Beginner

## 🔍 STAR Method Lab Prompt

**Situation:**  
A regional outage has occurred in Google Cloud's **us-central1** region. This has disrupted the availability of critical services, including databases, storage, and messaging queues. We need to ensure that the application can continue running without downtime during the outage.

**Task:**  
Create a disaster recovery plan that utilizes Google Cloud tools to enable automatic failover, data redundancy, and continuous availability. The recovery process must minimize downtime and ensure data integrity across regions.

**Action:**  
1. **Cloud SQL Failover**: Set up Cloud SQL with automatic failover and create a replica in a secondary region (e.g., **us-west1**).  
2. **Cloud Storage Redundancy**: Implement multi-region Cloud Storage buckets to ensure data is available even if one region fails.  
3. **Pub/Sub Alerts**: Configure alerts via Cloud Pub/Sub to notify the operations team of any failures in services.  
4. **Health Monitoring**: Use Cloud Monitoring and Cloud Functions to continuously check the health of critical services and trigger failover if needed.

**Expected Result:**  
A comprehensive Disaster Recovery (DR) plan, including a backup schedule, failover triggers, and redundancy services.

## ✍️ Your Assignment

_Use this section to complete your deliverable:_

```markdown
- **Primary Region**: us-central1  
- **Backup Location**: us-west1  
- **Failover Trigger**: Load balancer health check + Pub/Sub alert  
- **Redundancy Services**:  
   - Cloud SQL with failover  
   - Cloud Storage versioning  
   - Cloud Functions for health monitoring  
- **Backup Schedule**: Every 6 hours, daily export to multi-region bucket  
